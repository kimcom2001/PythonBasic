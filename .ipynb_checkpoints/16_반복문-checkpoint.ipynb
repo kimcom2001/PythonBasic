{
 "cells": [
  {
   "cell_type": "markdown",
   "metadata": {},
   "source": [
    "# Unit 16. for 반복문"
   ]
  },
  {
   "cell_type": "code",
   "execution_count": 2,
   "metadata": {},
   "outputs": [
    {
     "name": "stdout",
     "output_type": "stream",
     "text": [
      "hello world\n",
      "hello world\n",
      "hello world\n",
      "hello world\n",
      "hello world\n"
     ]
    }
   ],
   "source": [
    "for i in range(5):\n",
    "    print('hello world')"
   ]
  },
  {
   "cell_type": "code",
   "execution_count": 6,
   "metadata": {},
   "outputs": [
    {
     "name": "stdout",
     "output_type": "stream",
     "text": [
      "hello world 0\n",
      "hello world 1\n",
      "hello world 2\n",
      "hello world 3\n",
      "hello world 4\n"
     ]
    }
   ],
   "source": [
    "for i in range(5):\n",
    "    print('hello world', i)"
   ]
  },
  {
   "cell_type": "code",
   "execution_count": 7,
   "metadata": {},
   "outputs": [
    {
     "name": "stdout",
     "output_type": "stream",
     "text": [
      "2500\n"
     ]
    }
   ],
   "source": [
    "sum = 0\n",
    "for i in range(1,100,2):\n",
    "    sum += i\n",
    "print(sum)"
   ]
  },
  {
   "cell_type": "code",
   "execution_count": 8,
   "metadata": {},
   "outputs": [
    {
     "name": "stdout",
     "output_type": "stream",
     "text": [
      "hello world 10\n",
      "hello world 9\n",
      "hello world 8\n",
      "hello world 7\n",
      "hello world 6\n",
      "hello world 5\n",
      "hello world 4\n",
      "hello world 3\n",
      "hello world 2\n",
      "hello world 1\n"
     ]
    }
   ],
   "source": [
    "for i in range(10, 0, -1):\n",
    "    print('hello world', i)"
   ]
  },
  {
   "cell_type": "code",
   "execution_count": 18,
   "metadata": {},
   "outputs": [
    {
     "name": "stdout",
     "output_type": "stream",
     "text": [
      "hello world 4\n",
      "hello world 3\n",
      "hello world 2\n",
      "hello world 1\n",
      "hello world 0\n"
     ]
    }
   ],
   "source": [
    "for i in reversed(range(5)):    # 5에서부터 -1에서 한 값과 reversed로 range5의 값은 다름\n",
    "    print('hello world', i)"
   ]
  },
  {
   "cell_type": "code",
   "execution_count": 19,
   "metadata": {},
   "outputs": [
    {
     "name": "stdout",
     "output_type": "stream",
     "text": [
      "hello world 5\n",
      "hello world 4\n",
      "hello world 3\n",
      "hello world 2\n",
      "hello world 1\n"
     ]
    }
   ],
   "source": [
    "for i in range(5,0,-1):    # 5에서부터 -1에서 한 값과 reversed로 range5의 값은 다름\n",
    "    print('hello world', i)"
   ]
  },
  {
   "cell_type": "code",
   "execution_count": 20,
   "metadata": {},
   "outputs": [
    {
     "name": "stdout",
     "output_type": "stream",
     "text": [
      "Hello world 0\n",
      "Hello world 1\n",
      "Hello world 2\n",
      "Hello world 3\n",
      "Hello world 4\n"
     ]
    }
   ],
   "source": [
    "for i in range(5):\n",
    "    print('Hello world', i)\n",
    "    i = 5"
   ]
  },
  {
   "cell_type": "code",
   "execution_count": 21,
   "metadata": {},
   "outputs": [
    {
     "name": "stdout",
     "output_type": "stream",
     "text": [
      "반복할 횟수> 3\n",
      "Hello world 0\n",
      "Hello world 1\n",
      "Hello world 2\n"
     ]
    }
   ],
   "source": [
    "loop = int(input('반복할 횟수> '))\n",
    "for i in range(loop):\n",
    "    print('Hello world', i)"
   ]
  },
  {
   "cell_type": "markdown",
   "metadata": {},
   "source": [
    "### Sequence 객체로 반복하기"
   ]
  },
  {
   "cell_type": "code",
   "execution_count": 22,
   "metadata": {},
   "outputs": [
    {
     "name": "stdout",
     "output_type": "stream",
     "text": [
      "10 20 30 40 50 "
     ]
    }
   ],
   "source": [
    "a = [10, 20, 30, 40, 50]\n",
    "for element in a:\n",
    "    print(element,end=' ')"
   ]
  },
  {
   "cell_type": "code",
   "execution_count": 27,
   "metadata": {},
   "outputs": [
    {
     "name": "stdout",
     "output_type": "stream",
     "text": [
      "apple orange grape"
     ]
    }
   ],
   "source": [
    "fruits = ('apple', ' ', 'orange', ' ', 'grape')\n",
    "for fruit in fruits:\n",
    "    print(fruit,end='')"
   ]
  },
  {
   "cell_type": "code",
   "execution_count": 24,
   "metadata": {},
   "outputs": [
    {
     "name": "stdout",
     "output_type": "stream",
     "text": [
      "P y t h o n "
     ]
    }
   ],
   "source": [
    "for letter in 'Python':\n",
    "    print(letter, end=' ')"
   ]
  },
  {
   "cell_type": "code",
   "execution_count": 25,
   "metadata": {},
   "outputs": [
    {
     "name": "stdout",
     "output_type": "stream",
     "text": [
      "n o h t y P "
     ]
    }
   ],
   "source": [
    "for letter in reversed('Python'):\n",
    "    print(letter, end=' ')"
   ]
  },
  {
   "cell_type": "code",
   "execution_count": 31,
   "metadata": {},
   "outputs": [
    {
     "name": "stdout",
     "output_type": "stream",
     "text": [
      "10\n",
      "i의 값은 0\n",
      "i의 값은 1\n",
      "i의 값은 2\n",
      "i의 값은 3\n",
      "i의 값은 4\n",
      "i의 값은 5\n",
      "i의 값은 6\n",
      "i의 값은 7\n",
      "i의 값은 8\n",
      "i의 값은 9\n"
     ]
    }
   ],
   "source": [
    "count = int(input())\n",
    "\n",
    "for i in range(count):\n",
    "    print('i의 값은', end=' ')\n",
    "    print(i)"
   ]
  },
  {
   "cell_type": "code",
   "execution_count": 42,
   "metadata": {},
   "outputs": [
    {
     "name": "stdout",
     "output_type": "stream",
     "text": [
      "1부터 9사이의 정수 입력> 4\n",
      "4 * 0 = 0 \n",
      "4 * 1 = 4 \n",
      "4 * 2 = 8 \n",
      "4 * 3 = 12 \n",
      "4 * 4 = 16 \n",
      "4 * 5 = 20 \n",
      "4 * 6 = 24 \n",
      "4 * 7 = 28 \n",
      "4 * 8 = 32 \n",
      "4 * 9 = 36 \n"
     ]
    }
   ],
   "source": [
    "count = int(input('1부터 9사이의 정수 입력> '))\n",
    "\n",
    "for i in range(10):\n",
    "    print(count,'*',i,'=',count*i, end=' \\n')"
   ]
  },
  {
   "cell_type": "code",
   "execution_count": null,
   "metadata": {},
   "outputs": [],
   "source": []
  },
  {
   "cell_type": "code",
   "execution_count": null,
   "metadata": {},
   "outputs": [],
   "source": []
  },
  {
   "cell_type": "code",
   "execution_count": null,
   "metadata": {},
   "outputs": [],
   "source": []
  },
  {
   "cell_type": "code",
   "execution_count": null,
   "metadata": {},
   "outputs": [],
   "source": []
  },
  {
   "cell_type": "code",
   "execution_count": null,
   "metadata": {},
   "outputs": [],
   "source": []
  }
 ],
 "metadata": {
  "kernelspec": {
   "display_name": "Python 3",
   "language": "python",
   "name": "python3"
  },
  "language_info": {
   "codemirror_mode": {
    "name": "ipython",
    "version": 3
   },
   "file_extension": ".py",
   "mimetype": "text/x-python",
   "name": "python",
   "nbconvert_exporter": "python",
   "pygments_lexer": "ipython3",
   "version": "3.8.3"
  }
 },
 "nbformat": 4,
 "nbformat_minor": 4
}
