{
 "cells": [
  {
   "cell_type": "markdown",
   "metadata": {},
   "source": [
    "# 10장 연습문제"
   ]
  },
  {
   "cell_type": "markdown",
   "metadata": {},
   "source": [
    " 10.1 아무 내용이 없는 Thing 클래스를 만들어서 출력한다. 이 클래스의 example 객체를 생성해서 출력한다. 이 때 두 출력값은 같은가?\n",
    " \n",
    " - 같지 않다"
   ]
  },
  {
   "cell_type": "code",
   "execution_count": 1,
   "metadata": {},
   "outputs": [],
   "source": [
    "class Thing:\n",
    "    pass"
   ]
  },
  {
   "cell_type": "code",
   "execution_count": 2,
   "metadata": {},
   "outputs": [],
   "source": [
    "example = Thing()"
   ]
  },
  {
   "cell_type": "code",
   "execution_count": 5,
   "metadata": {},
   "outputs": [
    {
     "data": {
      "text/plain": [
       "<__main__.Thing at 0x25fe2749100>"
      ]
     },
     "execution_count": 5,
     "metadata": {},
     "output_type": "execute_result"
    }
   ],
   "source": [
    "Thing()"
   ]
  },
  {
   "cell_type": "code",
   "execution_count": 6,
   "metadata": {},
   "outputs": [
    {
     "data": {
      "text/plain": [
       "<__main__.Thing at 0x25fe273de80>"
      ]
     },
     "execution_count": 6,
     "metadata": {},
     "output_type": "execute_result"
    }
   ],
   "source": [
    "example"
   ]
  },
  {
   "cell_type": "code",
   "execution_count": 9,
   "metadata": {},
   "outputs": [
    {
     "data": {
      "text/plain": [
       "False"
      ]
     },
     "execution_count": 9,
     "metadata": {},
     "output_type": "execute_result"
    }
   ],
   "source": [
    "Thing() is example  # 출력값이 같지 않다."
   ]
  },
  {
   "cell_type": "markdown",
   "metadata": {},
   "source": [
    "10.2 Thing2 클래스를 만들고 이 클래스의 leters속성에 값 'abc'를 할당한 후 letters를 출력해보자."
   ]
  },
  {
   "cell_type": "code",
   "execution_count": 36,
   "metadata": {},
   "outputs": [],
   "source": [
    "class Thing2:\n",
    "    letters = 'abc'"
   ]
  },
  {
   "cell_type": "code",
   "execution_count": 37,
   "metadata": {},
   "outputs": [],
   "source": [
    "thing2 = Thing2()"
   ]
  },
  {
   "cell_type": "code",
   "execution_count": 38,
   "metadata": {},
   "outputs": [
    {
     "name": "stdout",
     "output_type": "stream",
     "text": [
      "abc\n"
     ]
    }
   ],
   "source": [
    "print(thing2.letters)"
   ]
  },
  {
   "cell_type": "markdown",
   "metadata": {},
   "source": [
    "10.3 Thing3 클래스를 만든다. 이번에는 인스턴스(객체)의 letter 속성에 값 'xyz'를 할당한 후 letters를 출력한다. letters를 출력하기 위해 객체를 생성해야 하는가?\n",
    "- 생성하지 않아도 된다"
   ]
  },
  {
   "cell_type": "code",
   "execution_count": 39,
   "metadata": {},
   "outputs": [],
   "source": [
    "class Thing3:\n",
    "    def __init__(self):\n",
    "        self.letters = 'xyz'"
   ]
  },
  {
   "cell_type": "code",
   "execution_count": 40,
   "metadata": {},
   "outputs": [],
   "source": [
    "thing3 = Thing3()"
   ]
  },
  {
   "cell_type": "code",
   "execution_count": 41,
   "metadata": {},
   "outputs": [
    {
     "name": "stdout",
     "output_type": "stream",
     "text": [
      "xyz\n"
     ]
    }
   ],
   "source": [
    "print(thing3.letters)"
   ]
  },
  {
   "cell_type": "markdown",
   "metadata": {},
   "source": [
    "10.4 name, symbol, number 인스턴스 속성을 가진 Element 클래스를 만들어보자. 이 클래스에서 'Hydrogen', 'H', 1 값을 가진 객체를 생성한다."
   ]
  },
  {
   "cell_type": "code",
   "execution_count": 173,
   "metadata": {},
   "outputs": [],
   "source": [
    "class Element:\n",
    "    def __init__(self, name, symbol, number):\n",
    "        self.name = 'Hydrogen'\n",
    "        self.symbol = 'H'\n",
    "        self.number = 1 \n",
    "    \n",
    "element = Element('Hydrogen', 'H', 1)"
   ]
  },
  {
   "cell_type": "code",
   "execution_count": 174,
   "metadata": {},
   "outputs": [
    {
     "name": "stdout",
     "output_type": "stream",
     "text": [
      "Hydrogen\n",
      "H\n",
      "1\n"
     ]
    }
   ],
   "source": [
    "print(element.name)\n",
    "print(element.symbol)\n",
    "print(element.number)"
   ]
  },
  {
   "cell_type": "markdown",
   "metadata": {},
   "source": [
    "10.5 'name': 'Hydrogen', 'symbol': 'H', 'number': 1과 같이 키와 값으로 이루어진 el_dict 딕셔너리를 만들어보자. 그리고 el_dict 딕셔너리로부터 Element 클래스의 hydrogen 객체를 생성한다."
   ]
  },
  {
   "cell_type": "code",
   "execution_count": 175,
   "metadata": {},
   "outputs": [],
   "source": [
    "el_dict = {'name': 'Hydrogen', 'symbol': 'H', 'number': 1}\n",
    "hydrogen = Element(el_dict['name'], el_dict['symbol'], el_dict['number'])"
   ]
  },
  {
   "cell_type": "code",
   "execution_count": 176,
   "metadata": {},
   "outputs": [
    {
     "name": "stdout",
     "output_type": "stream",
     "text": [
      "Hydrogen\n",
      "H\n",
      "1\n"
     ]
    }
   ],
   "source": [
    "print(hydrogen.name)\n",
    "print(hydrogen.symbol)\n",
    "print(hydrogen.number)"
   ]
  },
  {
   "cell_type": "markdown",
   "metadata": {},
   "source": [
    "10.6 Element 클래스에서 객체의 속성(name, symbol, number)값을 출력하는 dump() 메서드를 정의한다. 이 클래스의 hydrogen 객체를 생성하고, dump() 메서드로 이 속성을 출력한다."
   ]
  },
  {
   "cell_type": "code",
   "execution_count": 253,
   "metadata": {},
   "outputs": [],
   "source": [
    "class Element:\n",
    "    def __init__(self, name, symbol, number):\n",
    "        self.name = name\n",
    "        self.symbol = symbol\n",
    "        self.number = number\n",
    "\n",
    "    def dump(self):\n",
    "        print(self.name, self.symbol, self.number)"
   ]
  },
  {
   "cell_type": "code",
   "execution_count": 254,
   "metadata": {},
   "outputs": [],
   "source": [
    "hydrogen = Element(**el_dict)"
   ]
  },
  {
   "cell_type": "code",
   "execution_count": 255,
   "metadata": {},
   "outputs": [
    {
     "name": "stdout",
     "output_type": "stream",
     "text": [
      "Hydrogen H 1\n"
     ]
    }
   ],
   "source": [
    "hydrogen.dump()"
   ]
  },
  {
   "cell_type": "markdown",
   "metadata": {},
   "source": [
    "10.7 print(hydrogen)을 호출한다. Element 클래스의 정의에서 dump 메서드를 __str__()메서드로 바꿔서 새로운 hydrogen 객체를 생성한다. 그리고 print(hydrogen)을 다시 호출한다."
   ]
  },
  {
   "cell_type": "code",
   "execution_count": 256,
   "metadata": {},
   "outputs": [
    {
     "name": "stdout",
     "output_type": "stream",
     "text": [
      "<__main__.Element object at 0x0000025FE275A190>\n"
     ]
    }
   ],
   "source": [
    "print(hydrogen)"
   ]
  },
  {
   "cell_type": "code",
   "execution_count": 264,
   "metadata": {},
   "outputs": [],
   "source": [
    "class Element:\n",
    "    def __init__(self, name, symbol, number):\n",
    "        self.name = name\n",
    "        self.symbol = symbol\n",
    "        self.number = number\n",
    "\n",
    "    def __str__(self):\n",
    "        return str(self.name) + ', ' + str(self.symbol) + ', ' + str(self.number)\n"
   ]
  },
  {
   "cell_type": "code",
   "execution_count": 265,
   "metadata": {},
   "outputs": [],
   "source": [
    "hydrogen = Element(**el_dict)"
   ]
  },
  {
   "cell_type": "code",
   "execution_count": 266,
   "metadata": {},
   "outputs": [
    {
     "name": "stdout",
     "output_type": "stream",
     "text": [
      "Hydrogen, H, 1\n"
     ]
    }
   ],
   "source": [
    "print(hydrogen)"
   ]
  },
  {
   "cell_type": "markdown",
   "metadata": {},
   "source": [
    "10.8 Element 클래스를 수정해서 name, symbol, number의 속성을 private로 만든다. 각 속성값을 반환하기 위해 getter 프로퍼티를 정의한다."
   ]
  },
  {
   "cell_type": "code",
   "execution_count": 330,
   "metadata": {},
   "outputs": [],
   "source": [
    "class Element:\n",
    "    def __init__(self, name, symbol, number):\n",
    "        self.hidden_name = name\n",
    "        self.hidden_symbol = symbol\n",
    "        self.hidden_number = number\n",
    "        \n",
    "    def get_name(self):\n",
    "        print('inside the getter of name')\n",
    "        return self.hidden_name\n",
    "    \n",
    "    def set_name(self, name):\n",
    "        print('inside the setter of name')\n",
    "        self.hidden_name = name\n",
    "\n",
    "    def get_symbol(self):\n",
    "        print('inside the getter of symbol')\n",
    "        return self.hidden_symbol\n",
    "    \n",
    "    def set_symbol(self, symbol):\n",
    "        print('inside the setter of symbol')\n",
    "        self.hidden_symbol = symbol\n",
    "        \n",
    "    def get_number(self):\n",
    "        print('inside the getter of number')\n",
    "        return self.hidden_number\n",
    "    \n",
    "    def set_number(self, number):\n",
    "        print('inside the setter of number')\n",
    "        self.hidden_number = number\n",
    "        "
   ]
  },
  {
   "cell_type": "code",
   "execution_count": 331,
   "metadata": {},
   "outputs": [],
   "source": [
    "element = Element('Hydrogen', 'H', 1)"
   ]
  },
  {
   "cell_type": "code",
   "execution_count": 332,
   "metadata": {},
   "outputs": [
    {
     "name": "stdout",
     "output_type": "stream",
     "text": [
      "inside the getter of name\n"
     ]
    },
    {
     "data": {
      "text/plain": [
       "'Hydrogen'"
      ]
     },
     "execution_count": 332,
     "metadata": {},
     "output_type": "execute_result"
    }
   ],
   "source": [
    "element.get_name()"
   ]
  },
  {
   "cell_type": "code",
   "execution_count": 333,
   "metadata": {},
   "outputs": [
    {
     "name": "stdout",
     "output_type": "stream",
     "text": [
      "inside the setter of name\n"
     ]
    }
   ],
   "source": [
    "element.set_name('수소')"
   ]
  },
  {
   "cell_type": "code",
   "execution_count": 334,
   "metadata": {},
   "outputs": [
    {
     "name": "stdout",
     "output_type": "stream",
     "text": [
      "inside the getter of name\n"
     ]
    },
    {
     "data": {
      "text/plain": [
       "'수소'"
      ]
     },
     "execution_count": 334,
     "metadata": {},
     "output_type": "execute_result"
    }
   ],
   "source": [
    "element.get_name()"
   ]
  },
  {
   "cell_type": "code",
   "execution_count": 335,
   "metadata": {},
   "outputs": [
    {
     "name": "stdout",
     "output_type": "stream",
     "text": [
      "inside the getter of symbol\n"
     ]
    },
    {
     "data": {
      "text/plain": [
       "'H'"
      ]
     },
     "execution_count": 335,
     "metadata": {},
     "output_type": "execute_result"
    }
   ],
   "source": [
    "element.get_symbol()"
   ]
  },
  {
   "cell_type": "code",
   "execution_count": 336,
   "metadata": {},
   "outputs": [
    {
     "name": "stdout",
     "output_type": "stream",
     "text": [
      "inside the setter of symbol\n"
     ]
    }
   ],
   "source": [
    "element.set_symbol('에이치')"
   ]
  },
  {
   "cell_type": "code",
   "execution_count": 337,
   "metadata": {},
   "outputs": [
    {
     "name": "stdout",
     "output_type": "stream",
     "text": [
      "inside the getter of symbol\n"
     ]
    },
    {
     "data": {
      "text/plain": [
       "'에이치'"
      ]
     },
     "execution_count": 337,
     "metadata": {},
     "output_type": "execute_result"
    }
   ],
   "source": [
    "element.get_symbol()"
   ]
  },
  {
   "cell_type": "code",
   "execution_count": 338,
   "metadata": {},
   "outputs": [
    {
     "name": "stdout",
     "output_type": "stream",
     "text": [
      "inside the getter of number\n"
     ]
    },
    {
     "data": {
      "text/plain": [
       "1"
      ]
     },
     "execution_count": 338,
     "metadata": {},
     "output_type": "execute_result"
    }
   ],
   "source": [
    "element.get_number()"
   ]
  },
  {
   "cell_type": "code",
   "execution_count": 339,
   "metadata": {},
   "outputs": [
    {
     "name": "stdout",
     "output_type": "stream",
     "text": [
      "inside the setter of number\n"
     ]
    }
   ],
   "source": [
    "element.set_number('일')"
   ]
  },
  {
   "cell_type": "code",
   "execution_count": 340,
   "metadata": {},
   "outputs": [
    {
     "name": "stdout",
     "output_type": "stream",
     "text": [
      "inside the getter of number\n"
     ]
    },
    {
     "data": {
      "text/plain": [
       "'일'"
      ]
     },
     "execution_count": 340,
     "metadata": {},
     "output_type": "execute_result"
    }
   ],
   "source": [
    "element.get_number()"
   ]
  },
  {
   "cell_type": "markdown",
   "metadata": {},
   "source": [
    "10.9 세 클래스 Bear, Rabbit, Octothorpo를 정의한다. 각 클래스에 eats() 메서드를 정의해보자. 각 메서드는 'berries' (Bear), 'clover' (Rabbit), 'campers' (Octothorpe)를 반환한다. 각 클래스의 객체를 생성하고, eats() 메서드의 반환값을 출력한다."
   ]
  },
  {
   "cell_type": "code",
   "execution_count": 346,
   "metadata": {},
   "outputs": [],
   "source": [
    "class Bear:\n",
    "    def eats(self):\n",
    "        return 'berries'\n",
    "        \n",
    "class Rabbit:\n",
    "    def eats(self):\n",
    "        return 'clover'\n",
    "        \n",
    "class Octothorpe:\n",
    "    def eats(self):\n",
    "        return 'campers'"
   ]
  },
  {
   "cell_type": "code",
   "execution_count": 347,
   "metadata": {},
   "outputs": [],
   "source": [
    "bear = Bear()\n",
    "rabbit = Rabbit()\n",
    "octothorpe = Octothorpe()"
   ]
  },
  {
   "cell_type": "code",
   "execution_count": 348,
   "metadata": {},
   "outputs": [
    {
     "name": "stdout",
     "output_type": "stream",
     "text": [
      "berries\n",
      "clover\n",
      "campers\n"
     ]
    }
   ],
   "source": [
    "print(bear.eats())\n",
    "print(rabbit.eats())\n",
    "print(octothorpe.eats())"
   ]
  },
  {
   "cell_type": "markdown",
   "metadata": {},
   "source": [
    "10.10 Laser, Claw, SmartPhone 클래스를 정의한다. 각 클래스는 does() 메서드를 갖고 있다. 각 메서드는 'disintegrate' (Laser), 'crush' (Claw) 또는 'ring' (Smart Phone)을 반환한다. 그리고 각 인스턴스(객체)를 갖는 Robot 클래스를 정의한다. Robot 클래스의 객체가 갖고 있는 내용을 출력하는 does() 메서드를 정의한다."
   ]
  },
  {
   "cell_type": "code",
   "execution_count": 363,
   "metadata": {},
   "outputs": [],
   "source": [
    "class Robot:\n",
    "    def __init__(self):\n",
    "        self.laser = 'disintegrate'\n",
    "        self.claw = 'crush'\n",
    "        self.smartphone = 'ring'\n",
    "        \n",
    "class Laser:    \n",
    "    def does(self):\n",
    "        return self.laser\n",
    "        \n",
    "class Claw:\n",
    "    def does(self):\n",
    "        return self.claw\n",
    "        \n",
    "class SmartPhone:\n",
    "    def does(self):\n",
    "        return self.smartphone"
   ]
  },
  {
   "cell_type": "code",
   "execution_count": 364,
   "metadata": {},
   "outputs": [],
   "source": [
    "does = Robot()"
   ]
  },
  {
   "cell_type": "code",
   "execution_count": 365,
   "metadata": {},
   "outputs": [
    {
     "name": "stdout",
     "output_type": "stream",
     "text": [
      "disintegrate\n"
     ]
    }
   ],
   "source": [
    "print(does.laser)"
   ]
  },
  {
   "cell_type": "code",
   "execution_count": 366,
   "metadata": {},
   "outputs": [
    {
     "name": "stdout",
     "output_type": "stream",
     "text": [
      "crush\n"
     ]
    }
   ],
   "source": [
    "print(does.claw)"
   ]
  },
  {
   "cell_type": "code",
   "execution_count": 367,
   "metadata": {},
   "outputs": [
    {
     "name": "stdout",
     "output_type": "stream",
     "text": [
      "ring\n"
     ]
    }
   ],
   "source": [
    "print(does.smartphone)"
   ]
  }
 ],
 "metadata": {
  "kernelspec": {
   "display_name": "Python 3",
   "language": "python",
   "name": "python3"
  },
  "language_info": {
   "codemirror_mode": {
    "name": "ipython",
    "version": 3
   },
   "file_extension": ".py",
   "mimetype": "text/x-python",
   "name": "python",
   "nbconvert_exporter": "python",
   "pygments_lexer": "ipython3",
   "version": "3.8.3"
  }
 },
 "nbformat": 4,
 "nbformat_minor": 4
}
