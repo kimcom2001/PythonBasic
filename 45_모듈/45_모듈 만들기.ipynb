{
 "metadata": {
  "language_info": {
   "codemirror_mode": {
    "name": "ipython",
    "version": 3
   },
   "file_extension": ".py",
   "mimetype": "text/x-python",
   "name": "python",
   "nbconvert_exporter": "python",
   "pygments_lexer": "ipython3",
   "version": "3.8.3-final"
  },
  "orig_nbformat": 2,
  "kernelspec": {
   "name": "python3",
   "display_name": "Python 3"
  }
 },
 "nbformat": 4,
 "nbformat_minor": 2,
 "cells": [
  {
   "source": [
    "# Unit 45. 모듈과 패키지 만들기"
   ],
   "cell_type": "markdown",
   "metadata": {}
  },
  {
   "cell_type": "code",
   "execution_count": 10,
   "metadata": {},
   "outputs": [
    {
     "output_type": "execute_result",
     "data": {
      "text/plain": [
       "1024"
      ]
     },
     "metadata": {},
     "execution_count": 10
    }
   ],
   "source": [
    "import square2 as s2\n",
    "s2.square(10)"
   ]
  },
  {
   "cell_type": "code",
   "execution_count": 11,
   "metadata": {},
   "outputs": [
    {
     "output_type": "execute_result",
     "data": {
      "text/plain": [
       "2"
      ]
     },
     "metadata": {},
     "execution_count": 11
    }
   ],
   "source": [
    "s2.base"
   ]
  },
  {
   "cell_type": "code",
   "execution_count": 12,
   "metadata": {},
   "outputs": [
    {
     "output_type": "execute_result",
     "data": {
      "text/plain": [
       "(2, 1024)"
      ]
     },
     "metadata": {},
     "execution_count": 12
    }
   ],
   "source": [
    "from square2 import base, square\n",
    "base, square(10)"
   ]
  },
  {
   "cell_type": "code",
   "execution_count": 13,
   "metadata": {},
   "outputs": [
    {
     "output_type": "stream",
     "name": "stdout",
     "text": [
      "안녕하세요. 저는 마리아입니다.\n"
     ]
    }
   ],
   "source": [
    "import person\n",
    "maria = person.Person('마리아', 20, '서울시 강서구 발산동')\n",
    "maria.greeting()"
   ]
  },
  {
   "cell_type": "code",
   "execution_count": 1,
   "metadata": {},
   "outputs": [
    {
     "output_type": "stream",
     "name": "stdout",
     "text": [
      "hello 모듈 시작\nhello.py __name__: hello\nhello 모듈 끝\nmain.py __name__: __main__\n"
     ]
    }
   ],
   "source": [
    "import hello    # hello 모듈을 가져옴\n",
    " \n",
    "print('main.py __name__:', __name__) # 이 파일이 메인인 경우 main으로 출력된다.\n",
    "# 모듈로 사용될 때에는 main으로 표시되지 않는다고 한다."
   ]
  },
  {
   "cell_type": "code",
   "execution_count": 5,
   "metadata": {},
   "outputs": [
    {
     "output_type": "execute_result",
     "data": {
      "text/plain": [
       "(300, 20000)"
      ]
     },
     "metadata": {},
     "execution_count": 5
    }
   ],
   "source": [
    "import calc # cmd에서 실행할 때에는 이 파일 내의 print(값)이 출력되지만, 여기서 모듈로 사용한다면 변수값에 따른 결과값이 출력\n",
    "\n",
    "calc.add(100, 200), calc.mul(100, 200)"
   ]
  },
  {
   "source": [
    "### 만든 패키지 사용하기"
   ],
   "cell_type": "markdown",
   "metadata": {}
  },
  {
   "cell_type": "code",
   "execution_count": 6,
   "metadata": {},
   "outputs": [
    {
     "output_type": "stream",
     "name": "stdout",
     "text": [
      "30\n200\n600.0\n1200\n"
     ]
    }
   ],
   "source": [
    "import calcpkg.operation    \n",
    "import calcpkg.geometry\n",
    "\n",
    "print(calcpkg.operation.add(10, 20))    \n",
    "print(calcpkg.operation.mul(10, 20))    \n",
    " \n",
    "print(calcpkg.geometry.triangle_area(30, 40))    \n",
    "print(calcpkg.geometry.rectangle_area(30, 40))   "
   ]
  },
  {
   "cell_type": "code",
   "execution_count": 9,
   "metadata": {},
   "outputs": [
    {
     "output_type": "execute_result",
     "data": {
      "text/plain": [
       "(30, 200)"
      ]
     },
     "metadata": {},
     "execution_count": 9
    }
   ],
   "source": [
    "from calcpkg.operation import add, mul\n",
    "add(10, 20), mul(10, 20)"
   ]
  },
  {
   "source": [
    "### calcpkg/\\_\\_init\\_\\_.py 수정 이후 수행해야 함"
   ],
   "cell_type": "markdown",
   "metadata": {}
  },
  {
   "cell_type": "code",
   "execution_count": 10,
   "metadata": {},
   "outputs": [
    {
     "output_type": "stream",
     "name": "stdout",
     "text": [
      "30\n200\n600.0\n1200\n"
     ]
    }
   ],
   "source": [
    "import calcpkg # __init__을 거쳐 import했기 때문에 calcpkg(맨 처음 __init__에서 시작하므로)만 import해도 결과 출력이 가능함\n",
    " \n",
    "print(calcpkg.operation.add(10, 20))    \n",
    "print(calcpkg.operation.mul(10, 20))    \n",
    " \n",
    "print(calcpkg.geometry.triangle_area(30, 40))  \n",
    "print(calcpkg.geometry.rectangle_area(30, 40)) "
   ]
  },
  {
   "cell_type": "code",
   "execution_count": 11,
   "metadata": {},
   "outputs": [
    {
     "output_type": "execute_result",
     "data": {
      "text/plain": [
       "30"
      ]
     },
     "metadata": {},
     "execution_count": 11
    }
   ],
   "source": [
    "from calcpkg import *\n",
    "add(10, 20)"
   ]
  }
 ]
}