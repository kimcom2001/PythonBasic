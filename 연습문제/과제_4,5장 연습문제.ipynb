{
 "cells": [
  {
   "cell_type": "markdown",
   "metadata": {},
   "source": [
    "# 4장 연습문제"
   ]
  },
  {
   "cell_type": "markdown",
   "metadata": {},
   "source": [
    "### 4.1"
   ]
  },
  {
   "cell_type": "code",
   "execution_count": 3,
   "metadata": {},
   "outputs": [
    {
     "name": "stdout",
     "output_type": "stream",
     "text": [
      "1~10사이의 secret변수 입력> 4\n",
      "1~10사이의 guest변수 입력> 4\n",
      "'just right'\n"
     ]
    }
   ],
   "source": [
    "secret = int(input('1~10사이의 secret변수 입력> '))\n",
    "guest = int(input('1~10사이의 guest변수 입력> '))\n",
    "\n",
    "if secret > guest:\n",
    "    print(\"'too low'\")\n",
    "elif secret < guest:\n",
    "    print(\"'too high'\")\n",
    "else:\n",
    "    print(\"'just right'\")    "
   ]
  },
  {
   "cell_type": "code",
   "execution_count": null,
   "metadata": {},
   "outputs": [],
   "source": []
  }
 ],
 "metadata": {
  "kernelspec": {
   "display_name": "Python 3",
   "language": "python",
   "name": "python3"
  },
  "language_info": {
   "codemirror_mode": {
    "name": "ipython",
    "version": 3
   },
   "file_extension": ".py",
   "mimetype": "text/x-python",
   "name": "python",
   "nbconvert_exporter": "python",
   "pygments_lexer": "ipython3",
   "version": "3.8.3"
  }
 },
 "nbformat": 4,
 "nbformat_minor": 4
}
