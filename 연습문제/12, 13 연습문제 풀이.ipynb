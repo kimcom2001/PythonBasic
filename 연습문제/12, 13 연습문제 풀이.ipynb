{
 "cells": [
  {
   "cell_type": "markdown",
   "metadata": {},
   "source": [
    "# 12, 13장 연습문제"
   ]
  },
  {
   "cell_type": "markdown",
   "metadata": {},
   "source": [
    "### 12장 연습문제"
   ]
  },
  {
   "cell_type": "markdown",
   "metadata": {},
   "source": [
    "12.4 정규 표현식은 텍스트 작업에 매우 편리하다. mammoth.txt에 정규 표현식을 적용해보자. 이것은 1866년 제임스 맥킨타이어(James McIntyre)가 쓴 '맘모스 치즈 예찬'Ode on the Mammoth Cheese'이다. 이시는 여행 중에 온타리오(Ontario)에서 만든 7천 파운드의 치즈에 대한 시다. 이 시를 모두 입력하기 싫다면,인터넷에서 이 시를 검색해 파이썬 프로그램에 붙여 넣는다. 혹은 프로젝트 Gutenberg(http://bit.ly/mcintyre-poetry)에서 이 시를 찾는다. 이 텍스트 문자열을 mammoth 변수에 할당한다."
   ]
  },
  {
   "cell_type": "code",
   "execution_count": 1,
   "metadata": {},
   "outputs": [],
   "source": [
    "mammoth = \"\"\"We have seen thee, queen of cheese,\n",
    "Lying quietly at your ease,\n",
    "Gently fanned by evening breeze,\n",
    "Thy fair form no flies dare seize.\n",
    "\n",
    "All gaily dressed soon you'll go\n",
    "To the great Provincial show,\n",
    "To be admired by many a beau\n",
    "In the city of Toronto.\n",
    "\n",
    "Cows numerous as a swarm of bees,\n",
    "Or as the leaves upon the trees,\n",
    "It did require to make thee please,\n",
    "And stand unrivalled, queen of cheese.\n",
    "\n",
    "May you not receive a scar as\n",
    "We have heard that Mr. Harris\n",
    "Intends to send you off as far as\n",
    "The great world's show at Paris.\n",
    "\n",
    "Of the youth beware of these,\n",
    "For some of them might rudely squeeze\n",
    "And bite your cheek, then songs or glees\n",
    "We could not sing, oh! queen of cheese.\n",
    "\n",
    "We'rt thou suspended from balloon,\n",
    "You'd cast a shade even at noon,\n",
    "Folks would think it was the moon\n",
    "About to fall and crush them soon.\"\"\""
   ]
  },
  {
   "cell_type": "markdown",
   "metadata": {},
   "source": [
    "12.5 파이썬 정규 표현식 함수를 사용하기 위해 re 모듈을 임포트한다. c로 시작하는 단어를 모두 출력하기 위해 re.findall()을 사용한다."
   ]
  },
  {
   "cell_type": "code",
   "execution_count": 121,
   "metadata": {},
   "outputs": [
    {
     "name": "stdout",
     "output_type": "stream",
     "text": [
      "['cheese', 'city', 'Cows', 'cheese', 'cheek', 'could', 'cheese', 'cast', 'crush']\n"
     ]
    }
   ],
   "source": [
    "import re\n",
    "\n",
    "x = re.findall('\\s+c[a-z]*|C[a-z]*', mammoth)\n",
    "y = []\n",
    "for i in range(len(x)):\n",
    "    y.append(x[i].lstrip())\n",
    "print(y)"
   ]
  },
  {
   "cell_type": "markdown",
   "metadata": {},
   "source": [
    "12.6 c로 시작하는 네 글자의 단어를 모두 찾는다."
   ]
  },
  {
   "cell_type": "code",
   "execution_count": 120,
   "metadata": {},
   "outputs": [
    {
     "name": "stdout",
     "output_type": "stream",
     "text": [
      "c로 시작하는 네글자 단어는 => ['city', 'Cows', 'cast']\n"
     ]
    }
   ],
   "source": [
    "import re\n",
    "\n",
    "x = re.findall('\\W+c[a-z]*|C[a-z]*', mammoth)\n",
    "y = []\n",
    "z = []\n",
    "\n",
    "for i in range(len(x)):\n",
    "    y.append(x[i].lstrip())\n",
    "\n",
    "for i in range(len(y)):\n",
    "    if len(y[i]) == 4:\n",
    "        z.append(y[i])\n",
    "        \n",
    "print('c로 시작하는 네글자 단어는 =>', z)\n",
    "    "
   ]
  },
  {
   "cell_type": "markdown",
   "metadata": {},
   "source": [
    "12.7 r로 끝나는 단어를 모두 찾는다."
   ]
  },
  {
   "cell_type": "code",
   "execution_count": 135,
   "metadata": {},
   "outputs": [
    {
     "name": "stdout",
     "output_type": "stream",
     "text": [
      "['your', 'fair', 'Or', 'scar', 'Mr', 'far', 'For', 'your', 'or']\n"
     ]
    }
   ],
   "source": [
    "import re\n",
    "\n",
    "a = re.findall('\\w+[a-z]*r+\\W', mammoth)\n",
    "b = []\n",
    "for i in range(len(a)):\n",
    "    b.append(a[i].strip('. '))\n",
    "    \n",
    "print(b)"
   ]
  },
  {
   "cell_type": "markdown",
   "metadata": {},
   "source": [
    "12.8 알파벳 모음 문자(a,e,i,o,u)가 연속으로 세 번 나오는 단어를 모두 찾는다."
   ]
  },
  {
   "cell_type": "code",
   "execution_count": 176,
   "metadata": {},
   "outputs": [
    {
     "name": "stdout",
     "output_type": "stream",
     "text": [
      "['queen', 'quietly', 'beau', 'queen', 'squeeze', 'queen']\n",
      "['queen', 'quietly', 'beau', 'squeeze']\n"
     ]
    }
   ],
   "source": [
    "s = re.findall('\\w*[aeiou]{3}\\w*', mammoth)\n",
    "print(s) \n",
    "t = []\n",
    "for i in range(len(s)):\n",
    "    if s[i] not in t:\n",
    "        t.append(s[i])\n",
    "print(t)\n",
    "        "
   ]
  },
  {
   "cell_type": "markdown",
   "metadata": {},
   "source": [
    "### 13장 연습문제"
   ]
  },
  {
   "cell_type": "markdown",
   "metadata": {},
   "source": [
    "13.1 현재 날짜를 문자열로 작성하여 today.txt 파일에 저장한다."
   ]
  },
  {
   "cell_type": "code",
   "execution_count": 271,
   "metadata": {},
   "outputs": [
    {
     "name": "stdout",
     "output_type": "stream",
     "text": [
      "2020-11-06\n"
     ]
    }
   ],
   "source": [
    "import datetime\n",
    "import time\n",
    "\n",
    "now = datetime.date.today()\n",
    "\n",
    "print(now)\n",
    "\n",
    "with open('today.txt', 'w') as file:\n",
    "    file.write(f'{now}')"
   ]
  },
  {
   "cell_type": "markdown",
   "metadata": {},
   "source": [
    "13.2 today.txt 파일을 읽어 today_string 문자열에 저장한다."
   ]
  },
  {
   "cell_type": "code",
   "execution_count": 272,
   "metadata": {},
   "outputs": [
    {
     "name": "stdout",
     "output_type": "stream",
     "text": [
      "2020-11-06\n"
     ]
    }
   ],
   "source": [
    "today_string = ''\n",
    "\n",
    "with open('today.txt', 'r') as file:\n",
    "    d_today = file.read()\n",
    "    today_string += d_today\n",
    "    \n",
    "print(today_string)"
   ]
  },
  {
   "cell_type": "markdown",
   "metadata": {},
   "source": [
    "13.3 today_string 문자열을 날짜로 파싱한다."
   ]
  },
  {
   "cell_type": "code",
   "execution_count": 273,
   "metadata": {},
   "outputs": [
    {
     "name": "stdout",
     "output_type": "stream",
     "text": [
      "2020-11-06 00:00:00\n"
     ]
    }
   ],
   "source": [
    "try:\n",
    "    date_today = datetime.datetime.strptime(today_string, '%Y-%m-%d')\n",
    "    print(date_today)\n",
    "except ValueError:\n",
    "    print(\"Incorrect data format, should be YYYYMMDD\")"
   ]
  },
  {
   "cell_type": "markdown",
   "metadata": {},
   "source": [
    "13.4 여러분이 태어난 날의 date 객체를 생성한다."
   ]
  },
  {
   "cell_type": "code",
   "execution_count": 274,
   "metadata": {},
   "outputs": [
    {
     "name": "stdout",
     "output_type": "stream",
     "text": [
      "저의 태어난 날은 : 1986-06-22\n"
     ]
    }
   ],
   "source": [
    "my_birthday = date(1986, 6, 22)\n",
    "print('저의 태어난 날은 :', my_birthday)"
   ]
  },
  {
   "cell_type": "markdown",
   "metadata": {},
   "source": [
    "13.5 무슨 요일에 태어났는가?"
   ]
  },
  {
   "cell_type": "code",
   "execution_count": 275,
   "metadata": {},
   "outputs": [
    {
     "name": "stdout",
     "output_type": "stream",
     "text": [
      "태어난 요일은 : 일요일\n"
     ]
    }
   ],
   "source": [
    "dayString = [\"월요일\", \"화요일\", \"수요일\", \"목요일\", \"금요일\", \"토요일\", \"일요일\"]\n",
    "\n",
    "p = datetime.date(1986, 6, 22).weekday()\n",
    "\n",
    "print('태어난 요일은 :', dayString[p])"
   ]
  },
  {
   "cell_type": "markdown",
   "metadata": {},
   "source": [
    "13.6 생일로부터 10,000일이 지났을 때의 날짜는?"
   ]
  },
  {
   "cell_type": "code",
   "execution_count": 296,
   "metadata": {},
   "outputs": [
    {
     "name": "stdout",
     "output_type": "stream",
     "text": [
      "2013-11-07\n"
     ]
    }
   ],
   "source": [
    "from datetime import timedelta\n",
    "\n",
    "the_day = my_birthday + timedelta(days=10000)\n",
    "print(the_day)"
   ]
  }
 ],
 "metadata": {
  "kernelspec": {
   "display_name": "Python 3",
   "language": "python",
   "name": "python3"
  },
  "language_info": {
   "codemirror_mode": {
    "name": "ipython",
    "version": 3
   },
   "file_extension": ".py",
   "mimetype": "text/x-python",
   "name": "python",
   "nbconvert_exporter": "python",
   "pygments_lexer": "ipython3",
   "version": "3.8.3"
  }
 },
 "nbformat": 4,
 "nbformat_minor": 4
}
