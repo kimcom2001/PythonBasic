{
 "cells": [
  {
   "cell_type": "markdown",
   "metadata": {},
   "source": [
    "# 7장 연습문제"
   ]
  },
  {
   "cell_type": "markdown",
   "metadata": {},
   "source": [
    "7.1 출생년도에 대한 리스트 year_lists를 만들어보자 출생년도를 첫 번째 요소로 하고 1년씩 증가해 다섯 번째 생일이 되는 해까지의 요소를 넣는다. 예를 들어, 1980년에 태어났다면 리스트는 year_list = [1980, 1981, 1982, 1983, 1984, 1985]일 것이다. 다섯 살도 안됐는데 이 책을 읽고 있다면 뭐라고 말해야할지 모르겠다."
   ]
  },
  {
   "cell_type": "code",
   "execution_count": 8,
   "metadata": {},
   "outputs": [],
   "source": [
    "# 7.1 답\n",
    "years_list = [1986, 1987, 1988, 1989, 1990]"
   ]
  },
  {
   "cell_type": "markdown",
   "metadata": {},
   "source": [
    "7.2 years_list의 세 번째 생일은 몇 년도인가? 기억하자,첫 해는 0살이다(오프셋 0은 출생 년도)"
   ]
  },
  {
   "cell_type": "code",
   "execution_count": 11,
   "metadata": {},
   "outputs": [
    {
     "name": "stdout",
     "output_type": "stream",
     "text": [
      "1989\n"
     ]
    }
   ],
   "source": [
    "# 7.2 답\n",
    "print(years_list[3])"
   ]
  },
  {
   "cell_type": "markdown",
   "metadata": {},
   "source": [
    "7.3 years_list 중 가장 나이가 많을 때는 몇 년도인가?"
   ]
  },
  {
   "cell_type": "code",
   "execution_count": 12,
   "metadata": {},
   "outputs": [
    {
     "name": "stdout",
     "output_type": "stream",
     "text": [
      "1990\n"
     ]
    }
   ],
   "source": [
    "# 7.3 답\n",
    "print(years_list[-1])"
   ]
  },
  {
   "cell_type": "markdown",
   "metadata": {},
   "source": [
    "7.4 \"mozzarella\", \"cinderella\", \"salmonella\" 세 문자열을 요소로 갖는 things 리스트를 만들어보자."
   ]
  },
  {
   "cell_type": "code",
   "execution_count": 41,
   "metadata": {},
   "outputs": [
    {
     "data": {
      "text/plain": [
       "['mozzarella', 'cinderella', 'salmonella']"
      ]
     },
     "execution_count": 41,
     "metadata": {},
     "output_type": "execute_result"
    }
   ],
   "source": [
    "# 7.4 답\n",
    "things_list = ['mozzarella', 'cinderella', 'salmonella']\n",
    "things_list"
   ]
  },
  {
   "cell_type": "markdown",
   "metadata": {},
   "source": [
    "7.5 things 리스트에서 사람 이름의 첫 글자를 대문자로 바꿔서 출력해보자. 그러면 리스트의 요소가 변경되는가?"
   ]
  },
  {
   "cell_type": "code",
   "execution_count": 42,
   "metadata": {},
   "outputs": [
    {
     "name": "stdout",
     "output_type": "stream",
     "text": [
      "['mozzarella', 'Cinderella', 'salmonella']\n"
     ]
    }
   ],
   "source": [
    "# 7.5 답\n",
    "things_list[1:2] = ['Cinderella']\n",
    "print(things_list)    # 변경되어 출력된다."
   ]
  },
  {
   "cell_type": "markdown",
   "metadata": {},
   "source": [
    "7.6 things 리스트의 치즈 요소를 모두 대문자로 바꿔서 출력해보자."
   ]
  },
  {
   "cell_type": "code",
   "execution_count": 46,
   "metadata": {},
   "outputs": [
    {
     "name": "stdout",
     "output_type": "stream",
     "text": [
      "['MOZZARELLA', 'Cinderella', 'salmonella']\n"
     ]
    }
   ],
   "source": [
    "# 7.6 답\n",
    "things_list[0] = things_list[0].upper()\n",
    "print(things_list)"
   ]
  },
  {
   "cell_type": "markdown",
   "metadata": {},
   "source": [
    "7.7 things_list에 질병 요소가 있다면 제거한 뒤 리스트를 출력해보자."
   ]
  },
  {
   "cell_type": "code",
   "execution_count": 47,
   "metadata": {},
   "outputs": [
    {
     "name": "stdout",
     "output_type": "stream",
     "text": [
      "['MOZZARELLA', 'Cinderella']\n"
     ]
    }
   ],
   "source": [
    "# 7.7 답\n",
    "things_list.pop(-1)\n",
    "print(things_list)"
   ]
  },
  {
   "cell_type": "markdown",
   "metadata": {},
   "source": [
    "7.8 \"Groucho\", \"Chico\", \"Harpo\" 세 문자열 요소를 갖는 surprise 리스트를 만들어보자"
   ]
  },
  {
   "cell_type": "code",
   "execution_count": 49,
   "metadata": {},
   "outputs": [
    {
     "data": {
      "text/plain": [
       "['Groucho', 'Chico', 'Harpo']"
      ]
     },
     "execution_count": 49,
     "metadata": {},
     "output_type": "execute_result"
    }
   ],
   "source": [
    "# 7.8 답\n",
    "suprise_list = [\"Groucho\", \"Chico\", \"Harpo\"]\n",
    "suprise_list"
   ]
  },
  {
   "cell_type": "markdown",
   "metadata": {},
   "source": [
    "7.9 suprise 리스트이 마지막 요소를 소문자로 변경하고, 단어를 뒤집은 다음에 첫 글자를 대문자로 바꿔보자."
   ]
  },
  {
   "cell_type": "code",
   "execution_count": 59,
   "metadata": {},
   "outputs": [
    {
     "data": {
      "text/plain": [
       "'Oprah'"
      ]
     },
     "execution_count": 59,
     "metadata": {},
     "output_type": "execute_result"
    }
   ],
   "source": [
    "# 7.9 답\n",
    "suprise_list[-1][::-1].lower().capitalize()"
   ]
  },
  {
   "cell_type": "markdown",
   "metadata": {},
   "source": [
    "7.10 리스트 컴프리헨션을 이용하여 range(10)에서 짝수 리스트를 만들어보자"
   ]
  },
  {
   "cell_type": "code",
   "execution_count": 60,
   "metadata": {},
   "outputs": [
    {
     "name": "stdout",
     "output_type": "stream",
     "text": [
      "[0, 2, 4, 6, 8]\n"
     ]
    }
   ],
   "source": [
    "# 7.10 답\n",
    "even_list = [i for i in range(10) if i % 2 == 0]\n",
    "print(even_list)"
   ]
  },
  {
   "cell_type": "markdown",
   "metadata": {},
   "source": [
    "7.11 줄넘기 랩 음악을 만들어보자. 일련의 두 줄 리듬을 출력한다. 프로그램의 시작 부분은 다음과 같다.\n",
    "start1 = [\"fee\", \"fie\", \"foe\"]\n",
    "rhymes = [(\"flop\", \"get a mop\"),\n",
    "          (\"fope\", \"turn the rope\"),\n",
    "          (\"fa\", \"get your ma\"),\n",
    "          (\"fudge\", \"call the judge\"),\n",
    "          (\"fat\", \"pet the cat\"),\n",
    "          (\"fog\", \"walk the dog\"),\n",
    "          (\"fun\", \"say we're done\"),\n",
    "          ]\n",
    "start2 = \"Someone better\"\n"
   ]
  },
  {
   "cell_type": "code",
   "execution_count": 72,
   "metadata": {},
   "outputs": [
    {
     "name": "stdout",
     "output_type": "stream",
     "text": [
      "fee !\n",
      "fie !\n",
      "foe !\n",
      "flop !\n"
     ]
    }
   ],
   "source": [
    "# 7.11 첫번째\n",
    "start1 = [\"fee\", \"fie\", \"foe\"]\n",
    "rhymes = [(\"flop\", \"get a mop\"),\n",
    "          (\"fope\", \"turn the rope\"),\n",
    "          (\"fa\", \"get your ma\"),\n",
    "          (\"fudge\", \"call the judge\"),\n",
    "          (\"fat\", \"pet the cat\"),\n",
    "          (\"fog\", \"walk the dog\"),\n",
    "          (\"fun\", \"say we're done\"),\n",
    "          ]\n",
    "start2 = \"Someone better\"\n",
    "\n",
    "for i in range(len(start1)+1):\n",
    "    start1.append(rhymes[0][0])\n",
    "    print(start1[i], '!')"
   ]
  },
  {
   "cell_type": "code",
   "execution_count": 74,
   "metadata": {},
   "outputs": [
    {
     "name": "stdout",
     "output_type": "stream",
     "text": [
      "Someone better get a mop .\n"
     ]
    }
   ],
   "source": [
    "# 7.11 두번째\n",
    "print(start2, rhymes[0][1], '.')"
   ]
  }
 ],
 "metadata": {
  "kernelspec": {
   "display_name": "Python 3",
   "language": "python",
   "name": "python3"
  },
  "language_info": {
   "codemirror_mode": {
    "name": "ipython",
    "version": 3
   },
   "file_extension": ".py",
   "mimetype": "text/x-python",
   "name": "python",
   "nbconvert_exporter": "python",
   "pygments_lexer": "ipython3",
   "version": "3.8.3"
  }
 },
 "nbformat": 4,
 "nbformat_minor": 4
}
