{
 "cells": [
  {
   "cell_type": "markdown",
   "metadata": {},
   "source": [
    "# 8장 연습문제"
   ]
  },
  {
   "cell_type": "markdown",
   "metadata": {},
   "source": [
    "8.1 영어-프랑스어 사전을 의미하는 e2f 딕셔너리를 만들어 출력해보자. 영어 dog는 플랑스어 chien이고, cat은 chat, walrus는 morse다."
   ]
  },
  {
   "cell_type": "code",
   "execution_count": 70,
   "metadata": {},
   "outputs": [
    {
     "name": "stdout",
     "output_type": "stream",
     "text": [
      "e2f_dict = {'dog': 'chien', 'cat': 'chat', 'walrus': 'morse'}\n"
     ]
    }
   ],
   "source": [
    "key = ['dog', 'cat', 'walrus']\n",
    "value = ['chien', 'chat', 'morse']\n",
    "\n",
    "e2f_dict = dict(zip(key, value))\n",
    "print('e2f_dict', '=', e2f_dict)"
   ]
  },
  {
   "cell_type": "markdown",
   "metadata": {},
   "source": [
    "8.2 e2f 딕셔너리에서 영어 walrus를 프랑스어로 출력해보자."
   ]
  },
  {
   "cell_type": "code",
   "execution_count": 71,
   "metadata": {},
   "outputs": [
    {
     "name": "stdout",
     "output_type": "stream",
     "text": [
      "morse\n"
     ]
    }
   ],
   "source": [
    "print(e2f_dict['walrus'])"
   ]
  },
  {
   "cell_type": "markdown",
   "metadata": {},
   "source": [
    "8.3 e2f 딕셔너리에서 f2e 딕셔너리라는 영어-프랑스어 사전을 만들어보자(items 메서드 사용)."
   ]
  },
  {
   "cell_type": "code",
   "execution_count": 72,
   "metadata": {},
   "outputs": [
    {
     "name": "stdout",
     "output_type": "stream",
     "text": [
      "dog chien\n",
      "cat chat\n",
      "walrus morse\n"
     ]
    }
   ],
   "source": [
    "for key, value in e2f_dict.items():\n",
    "    print(key, value)"
   ]
  },
  {
   "cell_type": "markdown",
   "metadata": {},
   "source": [
    "8.4 e2f 딕셔너리를 사용해서 프랑스어 chien을 영어로 출력해보자."
   ]
  },
  {
   "cell_type": "code",
   "execution_count": 73,
   "metadata": {},
   "outputs": [
    {
     "name": "stdout",
     "output_type": "stream",
     "text": [
      "dog\n"
     ]
    }
   ],
   "source": [
    "for key, value in e2f_dict.items():\n",
    "    if 'chien' in value:\n",
    "        print(key)"
   ]
  },
  {
   "cell_type": "markdown",
   "metadata": {},
   "source": [
    "8.5 e2f 딕셔너리의 영어 단어 키들을 출력해보자."
   ]
  },
  {
   "cell_type": "code",
   "execution_count": 74,
   "metadata": {},
   "outputs": [
    {
     "name": "stdout",
     "output_type": "stream",
     "text": [
      "dog\n",
      "cat\n",
      "walrus\n"
     ]
    }
   ],
   "source": [
    "for key in e2f_dict.keys():\n",
    "    print(key)"
   ]
  },
  {
   "cell_type": "markdown",
   "metadata": {},
   "source": [
    "8.6 이차원 딕셔너리 life를 만들어보자. 최상위 키는 'animals', 'plants', 'other'다. 그리고 'animals'는 각각 'cats', 'octopi', 'emus'를 키로 하고, 'Henri', 'Grumpy', 'Lucy'를 값으로 하는 또 다른 딕셔너리를 참조하고 있다. 나머지 요소는 빈 딕셔너리를 참조한다."
   ]
  },
  {
   "cell_type": "code",
   "execution_count": 75,
   "metadata": {},
   "outputs": [
    {
     "name": "stdout",
     "output_type": "stream",
     "text": [
      "{'animal': {'cat': ['Henri', 'Grumpy', 'Lucy'], 'octopi': 'none', 'emus': 'none'}}\n"
     ]
    }
   ],
   "source": [
    "life = {\n",
    "    'animal': {\n",
    "        'cat': ['Henri', 'Grumpy', 'Lucy'],\n",
    "        'octopi': 'none',\n",
    "        'emus': 'none'\n",
    "    }\n",
    "}\n",
    "\n",
    "print(life)"
   ]
  },
  {
   "cell_type": "markdown",
   "metadata": {},
   "source": [
    "8.7 life 딕셔너리의 최상위 키를 출력해보자."
   ]
  },
  {
   "cell_type": "code",
   "execution_count": 78,
   "metadata": {},
   "outputs": [
    {
     "name": "stdout",
     "output_type": "stream",
     "text": [
      "animal\n"
     ]
    }
   ],
   "source": [
    "for outer_key in life.keys():\n",
    "    print(outer_key)"
   ]
  },
  {
   "cell_type": "markdown",
   "metadata": {},
   "source": [
    "8.8 life['animals']의 모든 키를 출력해보자"
   ]
  },
  {
   "cell_type": "code",
   "execution_count": 87,
   "metadata": {},
   "outputs": [
    {
     "name": "stdout",
     "output_type": "stream",
     "text": [
      "cat\n",
      "octopi\n",
      "emus\n"
     ]
    }
   ],
   "source": [
    "for outer_key, outer_value in life.items():\n",
    "    for inner_key in outer_value.keys():\n",
    "        print(inner_key)"
   ]
  },
  {
   "cell_type": "markdown",
   "metadata": {},
   "source": [
    "8.9 life['animals']['cat']의 모든 값을 출력해보자"
   ]
  },
  {
   "cell_type": "code",
   "execution_count": 111,
   "metadata": {},
   "outputs": [
    {
     "name": "stdout",
     "output_type": "stream",
     "text": [
      "['Henri', 'Grumpy', 'Lucy']\n",
      "none\n",
      "none\n"
     ]
    }
   ],
   "source": [
    "for outer_key, outer_value in life.items():\n",
    "    for inner_value in outer_value.values():\n",
    "        print(inner_value)"
   ]
  },
  {
   "cell_type": "markdown",
   "metadata": {},
   "source": [
    "8.10 딕셔너리 컴프리헨션으로 squares 딕셔너리를 생성한다. range(10)를 키로 하고, 각 키의 제곱을 값으로 한다."
   ]
  },
  {
   "cell_type": "code",
   "execution_count": 123,
   "metadata": {},
   "outputs": [
    {
     "name": "stdout",
     "output_type": "stream",
     "text": [
      "{0: 0, 1: 1, 2: 4, 3: 9, 4: 16, 5: 25, 6: 36, 7: 49, 8: 64, 9: 81}\n"
     ]
    }
   ],
   "source": [
    "sq = {i : i*i for i in range(10)}\n",
    "\n",
    "print(sq)"
   ]
  },
  {
   "cell_type": "markdown",
   "metadata": {},
   "source": [
    "8.11 셋 컴프리헨션을 이용하여 range(10)에서 홀수 셋을 만든다."
   ]
  },
  {
   "cell_type": "code",
   "execution_count": 125,
   "metadata": {},
   "outputs": [
    {
     "name": "stdout",
     "output_type": "stream",
     "text": [
      "odd_numbers = {1, 3, 5, 7, 9}\n"
     ]
    }
   ],
   "source": [
    "odd_numbers = {i for i in range(10) if i % 2 == 1}\n",
    "print('odd_numbers', '=', odd_numbers)"
   ]
  },
  {
   "cell_type": "markdown",
   "metadata": {},
   "source": [
    "8.12 제너레이터 컴프리헨션을 이용하여 문자열 'Got'과 range(10)의 각 숫자를 반환한다.\n",
    "for 문을 사용해서 제너레이터를 순회한다."
   ]
  },
  {
   "cell_type": "code",
   "execution_count": 192,
   "metadata": {},
   "outputs": [
    {
     "name": "stdout",
     "output_type": "stream",
     "text": [
      "('Got', 0)\n",
      "('Got', 1)\n",
      "('Got', 2)\n",
      "('Got', 3)\n",
      "('Got', 4)\n",
      "('Got', 5)\n",
      "('Got', 6)\n",
      "('Got', 7)\n",
      "('Got', 8)\n",
      "('Got', 9)\n"
     ]
    }
   ],
   "source": [
    "x = (('Got', i) for i in range(10))\n",
    "\n",
    "for i in range(10):\n",
    "    print(next(x))"
   ]
  },
  {
   "cell_type": "markdown",
   "metadata": {},
   "source": [
    "8.13 zip()을 사용해서 딕셔너리를 생성한다. 키로 ('optimist', 'pessimist', 'troll') 튜플을 사용하고 값으로 ('The glass is half full', 'The glass is half empty', 'How did you get a glass?') 튜플을 사용한다."
   ]
  },
  {
   "cell_type": "code",
   "execution_count": 171,
   "metadata": {},
   "outputs": [
    {
     "name": "stdout",
     "output_type": "stream",
     "text": [
      "{'optimist': 'The glass is half full', 'pessimist': 'The glass is half empty', 'troll': 'How did you get a glass?'}\n"
     ]
    }
   ],
   "source": [
    "key = ('optimist', 'pessimist', 'troll')\n",
    "value = ('The glass is half full', 'The glass is half empty', 'How did you get a glass?')\n",
    "\n",
    "x = dict(zip(key, value))\n",
    "\n",
    "print(x)"
   ]
  },
  {
   "cell_type": "markdown",
   "metadata": {},
   "source": [
    "8.14 zip()을 사용해서 다음 두 리스트를 짝으로 하는 movie 딕셔너리를 만들어보자\n",
    "title = ['Creture of Habit', 'Crewel Fate']\n",
    "plots = ['A nun turns into a mon ster', 'A haunted yarn shop']"
   ]
  },
  {
   "cell_type": "code",
   "execution_count": 173,
   "metadata": {},
   "outputs": [
    {
     "name": "stdout",
     "output_type": "stream",
     "text": [
      "{'Creture of Habit': 'A nun turns into a mon ster', 'Crewel Fate': 'A haunted yarn shop'}\n"
     ]
    }
   ],
   "source": [
    "title = ['Creture of Habit', 'Crewel Fate']\n",
    "plots = ['A nun turns into a mon ster', 'A haunted yarn shop']\n",
    "\n",
    "y = dict(zip(title, plots))\n",
    "\n",
    "print(y)"
   ]
  }
 ],
 "metadata": {
  "kernelspec": {
   "display_name": "Python 3",
   "language": "python",
   "name": "python3"
  },
  "language_info": {
   "codemirror_mode": {
    "name": "ipython",
    "version": 3
   },
   "file_extension": ".py",
   "mimetype": "text/x-python",
   "name": "python",
   "nbconvert_exporter": "python",
   "pygments_lexer": "ipython3",
   "version": "3.8.3"
  }
 },
 "nbformat": 4,
 "nbformat_minor": 4
}
