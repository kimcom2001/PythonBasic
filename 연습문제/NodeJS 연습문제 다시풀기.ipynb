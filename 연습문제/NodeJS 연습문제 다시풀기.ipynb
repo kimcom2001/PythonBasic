{
 "cells": [
  {
   "cell_type": "markdown",
   "metadata": {},
   "source": [
    "# NodeJS 연습문제"
   ]
  },
  {
   "cell_type": "markdown",
   "metadata": {},
   "source": [
    "### 1. 양의 정수 N을 입력으로 받아 1부터 N까지 제곱의 합과 합의 제곱을 구하시오."
   ]
  },
  {
   "cell_type": "code",
   "execution_count": 130,
   "metadata": {},
   "outputs": [
    {
     "name": "stdout",
     "output_type": "stream",
     "text": [
      "양의 정수 입력> 10\n",
      "제곱의 합 : 385\n"
     ]
    }
   ],
   "source": [
    "x = int(input('양의 정수 입력> '))\n",
    "\n",
    "def sum_list(x):\n",
    "    num_sum=0\n",
    "    for i in range(x+1):\n",
    "        num_sum += i*i\n",
    "    return num_sum\n",
    "\n",
    "print('제곱의 합 :', sum_list(x))"
   ]
  },
  {
   "cell_type": "markdown",
   "metadata": {},
   "source": [
    "### 2. a + b + c = 1000 인 피타고라스 수를 구하시오."
   ]
  },
  {
   "cell_type": "code",
   "execution_count": 119,
   "metadata": {},
   "outputs": [
    {
     "name": "stdout",
     "output_type": "stream",
     "text": [
      "a : 200, b : 375, c : 425\n"
     ]
    }
   ],
   "source": [
    "# 즉, a*a + b*b = c*c 을 만족하고, a < b < c 이고, a + b > c 이다.\n",
    "\n",
    "for a in range(333):\n",
    "    for c in range(500):\n",
    "        if a*a + (1000-a-c)*(1000-a-c) == c*c:\n",
    "            print(f'a : {a}, b : {1000-a-c}, c : {c}')\n"
   ]
  },
  {
   "cell_type": "markdown",
   "metadata": {},
   "source": [
    "### 3. 디지털 시계에 하루동안(00:00~23:59) 3이 표시되는 시간을 초로 환산하면 총 몇 초(second) 인가?"
   ]
  },
  {
   "cell_type": "code",
   "execution_count": 129,
   "metadata": {},
   "outputs": [
    {
     "name": "stdout",
     "output_type": "stream",
     "text": [
      "29700 초\n"
     ]
    }
   ],
   "source": [
    "total=0\n",
    "for hour in range(24) :\n",
    "    for minute in range(60) :\n",
    "        if '3' in str(hour) or '3' in str(minute) :\n",
    "            total += 60\n",
    "print(total,'초')"
   ]
  },
  {
   "cell_type": "markdown",
   "metadata": {},
   "source": [
    "### 4. 1에서 1000까지 각 숫자의 갯수를 구하시오."
   ]
  },
  {
   "cell_type": "code",
   "execution_count": 128,
   "metadata": {},
   "outputs": [
    {
     "name": "stdout",
     "output_type": "stream",
     "text": [
      "{0: 192, 1: 301, 2: 300, 3: 300, 4: 300, 5: 300, 6: 300, 7: 300, 8: 300, 9: 300}\n"
     ]
    }
   ],
   "source": [
    "total=[0, 0, 0, 0, 0, 0, 0, 0, 0, 0]\n",
    "\n",
    "for i in range(1,10):\n",
    "    total[i] += 1\n",
    "\n",
    "for i in range(10,100):\n",
    "    total[int(i/10)] += 1\n",
    "    total[i%10] += 1\n",
    "\n",
    "for i in range(100,1000): \n",
    "    total[int(i/100)] += 1\n",
    "    total[int((i/10)%10)] += 1\n",
    "    total[int((i%100)%10)] +=1\n",
    "    \n",
    "    \n",
    "for i in range(1000,1001):\n",
    "    total[int(i/1000)] += 1\n",
    "    total[int((i/100)%10)] += 1\n",
    "    total[int(i/10)%10] += 1\n",
    "    total[int(i%10)] += 1\n",
    "    \n",
    "\n",
    "key = [0, 1, 2, 3, 4, 5, 6, 7, 8, 9]\n",
    "x = dict(zip(key, total))\n",
    "print(x)"
   ]
  },
  {
   "cell_type": "markdown",
   "metadata": {},
   "source": [
    "### 5. 세자리 수를 곱해 만들 수 있는 가장 큰 대칭수(palindrome)와 세자리 수를 구하시오. 단, 대칭수는 12321과 같은 수를 의미함."
   ]
  },
  {
   "cell_type": "code",
   "execution_count": 122,
   "metadata": {},
   "outputs": [
    {
     "name": "stdout",
     "output_type": "stream",
     "text": [
      "i의 값 : 913 ,  k의 값 : 993 ,  대칭수의 값 : 906609\n"
     ]
    }
   ],
   "source": [
    "maxPal = 0;\n",
    "maxX = 0;\n",
    "maxY = 0;\n",
    "\n",
    "for i in range(100,1000):\n",
    "    for k in range(i, 1000):\n",
    "        if len(str(i*k)) == 6 and str(i*k)[0] == str(i*k)[-1] and str(i*k)[1] == str(i*k)[-2] and str(i*k)[2] == str(i*k)[-3]:\n",
    "\n",
    "            product = i*k\n",
    "            if product > maxPal:\n",
    "                maxPal = product\n",
    "                maxX = i\n",
    "                maxY = k\n",
    "            \n",
    "print('i의 값 :', maxX,', ', 'k의 값 :', maxY, ', ', '대칭수의 값 :', maxPal)"
   ]
  }
 ],
 "metadata": {
  "kernelspec": {
   "display_name": "Python 3",
   "language": "python",
   "name": "python3"
  },
  "language_info": {
   "codemirror_mode": {
    "name": "ipython",
    "version": 3
   },
   "file_extension": ".py",
   "mimetype": "text/x-python",
   "name": "python",
   "nbconvert_exporter": "python",
   "pygments_lexer": "ipython3",
   "version": "3.8.3"
  }
 },
 "nbformat": 4,
 "nbformat_minor": 4
}
